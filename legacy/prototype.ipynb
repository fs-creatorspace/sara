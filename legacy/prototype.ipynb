{
 "cells": [
  {
   "cell_type": "code",
   "execution_count": null,
   "metadata": {},
   "outputs": [],
   "source": [
    "import openai\n",
    "import speech_recognition as sr\n",
    "import gtts\n",
    "from dotenv import load_dotenv\n",
    "import pygame.mixer\n",
    "import os\n",
    "from conversation import Conversation"
   ]
  },
  {
   "cell_type": "code",
   "execution_count": null,
   "metadata": {},
   "outputs": [],
   "source": [
    "#load api-keys\n",
    "load_dotenv()"
   ]
  },
  {
   "cell_type": "markdown",
   "metadata": {},
   "source": [
    "## Function Setup"
   ]
  },
  {
   "cell_type": "code",
   "execution_count": null,
   "metadata": {},
   "outputs": [],
   "source": [
    "def save_question(question, audio_id):\n",
    "\n",
    "    # Convert text to speech\n",
    "    tts = gtts.gTTS(text=question, lang='en')\n",
    "    path = f\"./questions/question_{audio_id}.mp3\"\n",
    "    tts.save(path)\n",
    "    \n",
    "    return path"
   ]
  },
  {
   "cell_type": "code",
   "execution_count": null,
   "metadata": {},
   "outputs": [],
   "source": [
    "def play_question(path):\n",
    "    absolute_path = os.path.abspath(path)\n",
    "    if os.path.exists(absolute_path):\n",
    "        try:\n",
    "            pygame.mixer.init()\n",
    "            pygame.mixer.music.load(absolute_path)\n",
    "            pygame.mixer.music.play()\n",
    "            while pygame.mixer.music.get_busy():\n",
    "                pygame.time.Clock().tick(10)\n",
    "        except KeyboardInterrupt:\n",
    "            pygame.mixer.music.stop()\n",
    "            pygame.mixer.quit()\n",
    "            print(\"Playback stopped and resources released.\")\n",
    "        pygame.mixer.quit()\n",
    "    else:\n",
    "        print(f\"File {absolute_path} does not exist!\")\n"
   ]
  },
  {
   "cell_type": "code",
   "execution_count": null,
   "metadata": {},
   "outputs": [],
   "source": [
    "def get_answer():\n",
    "\n",
    "    recognizer = sr.Recognizer()\n",
    "\n",
    "    with sr.Microphone() as source:\n",
    "        print(\"Please speak something...\")\n",
    "        recognizer.adjust_for_ambient_noise(source, duration=0.2)\n",
    "        audio_data = recognizer.listen(source)\n",
    "        print(\"Recognizing...\")\n",
    "\n",
    "        try:\n",
    "            # Using Google's speech recognition\n",
    "            text = recognizer.recognize_google(audio_data)\n",
    "            print(f\"You said: {text}\")\n",
    "            \n",
    "\n",
    "        except sr.UnknownValueError:\n",
    "            text = \"UnknownValueError\"   #REMOVE THIS LATER!!!!!!!!!!!!\n",
    "            print(\"I not understand the audio.\")\n",
    "        except sr.RequestError:\n",
    "            print(\"API Error.\")\n",
    "    \n",
    "    return text"
   ]
  },
  {
   "cell_type": "code",
   "execution_count": null,
   "metadata": {},
   "outputs": [],
   "source": [
    "# Initialize OpenAI API key\n",
    "openai.api_key = os.getenv(\"OPENAI_API_KEY\")\n",
    "\n",
    "def summarize_text(text):\n",
    "    messages = [\n",
    "        {\"role\": \"system\", \"content\": \"You are a helpful assistant focussing on receiving a good story.\"},\n",
    "        {\"role\": \"user\", \"content\": f\"Provide a brief summary of the following text and correct any grammar mistakes/wrong words. Dont change the meaning of the text.: '{text}'\"}\n",
    "    ]\n",
    "    \n",
    "    response = openai.ChatCompletion.create(model=\"gpt-3.5-turbo\", messages=messages)\n",
    "    \n",
    "    return response.choices[0].message['content'].strip()\n"
   ]
  },
  {
   "cell_type": "code",
   "execution_count": null,
   "metadata": {},
   "outputs": [],
   "source": [
    "def ask_follow_up_q(questions: str, summary: str):\n",
    "    messages = [\n",
    "        {\"role\": \"system\", \"content\": \"You are a helpful assistant that asks questions relevant to a story.\"},\n",
    "        {\"role\": \"user\", \"content\": f\"You are given a summary of a previously asked questions. Ask a relevant follow up Question (that has not been asked before) to get more relevant information about the summary. Use simple Vocabulary and talk like you are in a real conversation: Questions: '{questions}' Summary:'{summary}'\"}\n",
    "    ]\n",
    "    \n",
    "    response = openai.ChatCompletion.create(model=\"gpt-3.5-turbo\", messages=messages)\n",
    "    \n",
    "    return response.choices[0].message['content'].strip()"
   ]
  },
  {
   "cell_type": "markdown",
   "metadata": {},
   "source": [
    "## Pipeline in detail"
   ]
  },
  {
   "cell_type": "code",
   "execution_count": null,
   "metadata": {},
   "outputs": [],
   "source": [
    "audio_id=0\n",
    "question = \"Hey Carl. I always wanted to ask you something. Who was your first big love and how did you two meet?\"\n",
    "path = save_question(question, audio_id)"
   ]
  },
  {
   "cell_type": "code",
   "execution_count": null,
   "metadata": {},
   "outputs": [],
   "source": [
    "play_question(path)"
   ]
  },
  {
   "cell_type": "code",
   "execution_count": null,
   "metadata": {},
   "outputs": [],
   "source": [
    "answer = get_answer()"
   ]
  },
  {
   "cell_type": "code",
   "execution_count": null,
   "metadata": {},
   "outputs": [],
   "source": [
    "answer = \"Paris ist the capital off Belgium\"\n",
    "summary = summarize_text(answer)\n",
    "print(f\"Summary: {summary}\")"
   ]
  },
  {
   "cell_type": "code",
   "execution_count": null,
   "metadata": {},
   "outputs": [],
   "source": [
    "followUp_q = ask_follow_up_q(question, summary)\n",
    "print(f\"New Question: {followUp_q}\")"
   ]
  },
  {
   "cell_type": "markdown",
   "metadata": {},
   "source": [
    "## Conversation Pipeline"
   ]
  },
  {
   "cell_type": "code",
   "execution_count": null,
   "metadata": {},
   "outputs": [],
   "source": [
    "def question_pipeline(question: str, audio_id: int):\n",
    "    questions = list()\n",
    "    questions.append(question)\n",
    "    \n",
    "    path = save_question(question, audio_id)\n",
    "    play_question(path)\n",
    "\n",
    "    #answer = get_answer()\n",
    "    answer = \"When I was fifteen, I experienced an event that reshaped my perspective on life. My family and I were vacationing in a small coastal village, escaping the city's hustle and bustle. On our third day, while exploring a secluded beach, I found an old, weathered notebook partially buried in the sand. Curiosity piqued, I began reading and realized it was a diary from the 1940s. The entries detailed a woman's love story with a soldier during World War II and the challenges they faced. Their tale of separation, hope, and eventual reunion touched me profoundly, teaching me about the resilience of the human spirit and love's enduring nature. I shared the diary with my family, and it sparked deep conversations about our ancestors and personal challenges. That discovery emphasized the importance of preserving personal histories and cherishing every moment. Today, the diary has a special place in our home, reminding us of the strength we carry within and the bonds that bind us.\"\n",
    "    summary = summarize_text(answer)\n",
    "    print(f\"Summary: {summary}\")\n",
    "    \n",
    "    followUp_q = ask_follow_up_q(questions, summary)\n",
    "    print(f\"New Question: {followUp_q}\")\n",
    "    questions.append(followUp_q)\n",
    "    \n",
    "    path = save_question(followUp_q, audio_id+1)\n",
    "    play_question(path)\n",
    "    \n",
    "    answer2 = get_answer()\n",
    "    summary_complete = summarize_text(answer + \" \"+ answer2)\n",
    "    return summary_complete"
   ]
  },
  {
   "cell_type": "code",
   "execution_count": null,
   "metadata": {},
   "outputs": [],
   "source": [
    "question_pipeline(\"Hey Carl. I always wanted to ask you something. Who was your first big love and how did you two meet?\",\n",
    "                  audio_id=0)"
   ]
  },
  {
   "cell_type": "markdown",
   "metadata": {},
   "source": [
    "When I was fifteen, I experienced an event that reshaped my perspective on life. My family and I were vacationing in a small coastal village, escaping the city's hustle and bustle. On our third day, while exploring a secluded beach, I found an old, weathered notebook partially buried in the sand. Curiosity piqued, I began reading and realized it was a diary from the 1940s. The entries detailed a woman's love story with a soldier during World War II and the challenges they faced. Their tale of separation, hope, and eventual reunion touched me profoundly, teaching me about the resilience of the human spirit and love's enduring nature. I shared the diary with my family, and it sparked deep conversations about our ancestors and personal challenges. That discovery emphasized the importance of preserving personal histories and cherishing every moment. Today, the diary has a special place in our home, reminding us of the strength we carry within and the bonds that bind us."
   ]
  }
 ],
 "metadata": {
  "kernelspec": {
   "display_name": ".venv",
   "language": "python",
   "name": "python3"
  },
  "language_info": {
   "codemirror_mode": {
    "name": "ipython",
    "version": 3
   },
   "file_extension": ".py",
   "mimetype": "text/x-python",
   "name": "python",
   "nbconvert_exporter": "python",
   "pygments_lexer": "ipython3",
   "version": "3.11.6"
  }
 },
 "nbformat": 4,
 "nbformat_minor": 2
}
