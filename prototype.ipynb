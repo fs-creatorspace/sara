{
 "cells": [
  {
   "cell_type": "code",
   "execution_count": 1,
   "metadata": {},
   "outputs": [],
   "source": [
    "import openai\n",
    "import speech_recognition as sr\n",
    "from gtts import gTTS\n",
    "#from playsound import playsound\n",
    "from dotenv import load_dotenv\n",
    "import os"
   ]
  },
  {
   "cell_type": "code",
   "execution_count": 2,
   "metadata": {},
   "outputs": [
    {
     "data": {
      "text/plain": [
       "True"
      ]
     },
     "execution_count": 2,
     "metadata": {},
     "output_type": "execute_result"
    }
   ],
   "source": [
    "#load api-keys\n",
    "load_dotenv()"
   ]
  },
  {
   "cell_type": "code",
   "execution_count": 3,
   "metadata": {},
   "outputs": [],
   "source": [
    "def ask_question(question, audio_id):\n",
    "\n",
    "    # Convert text to speech\n",
    "    tts = gTTS(text=question, lang='en')\n",
    "    tts.save(f\"./questions/question_{audio_id}.mp3\")\n",
    "    #playsound(\"question.mp3\")\n",
    "    os.system(\"mpg321 question.mp3\")  # Use 'mpg321' or another player that suits your OS and setup"
   ]
  },
  {
   "cell_type": "code",
   "execution_count": 4,
   "metadata": {},
   "outputs": [],
   "source": [
    "def get_answer():\n",
    "\n",
    "    recognizer = sr.Recognizer()\n",
    "\n",
    "    with sr.Microphone() as source:\n",
    "        print(\"Please speak something...\")\n",
    "        recognizer.adjust_for_ambient_noise(source, duration=0.2)\n",
    "        audio_data = recognizer.listen(source)\n",
    "        print(\"Recognizing...\")\n",
    "\n",
    "        try:\n",
    "            # Using Google's speech recognition\n",
    "            text = recognizer.recognize_google(audio_data)\n",
    "            print(f\"You said: {text}\")\n",
    "            \n",
    "\n",
    "        except sr.UnknownValueError:\n",
    "            print(\"I not understand the audio.\")\n",
    "        except sr.RequestError:\n",
    "            print(\"API Error.\")\n",
    "    \n",
    "    return text"
   ]
  },
  {
   "cell_type": "code",
   "execution_count": 5,
   "metadata": {},
   "outputs": [],
   "source": [
    "# Initialize OpenAI API key\n",
    "openai.api_key = os.getenv(\"OPENAI_API_KEY\")\n",
    "\n",
    "def summarize_text(text):\n",
    "    prompt = f\"Provide a brief summary of the following text and correct any grammar mistakes/wrong words: '{text}'\"\n",
    "    response = openai.Completion.create(model=\"gpt-3.5-turbo\", prompt=prompt, max_tokens=100)\n",
    "    return response.choices[0].text.strip()"
   ]
  },
  {
   "cell_type": "markdown",
   "metadata": {},
   "source": [
    "## Pipeline"
   ]
  },
  {
   "cell_type": "code",
   "execution_count": 7,
   "metadata": {},
   "outputs": [
    {
     "name": "stderr",
     "output_type": "stream",
     "text": [
      "sh: mpg321: command not found\n"
     ]
    }
   ],
   "source": [
    "audio_id=0\n",
    "ask_question(\"Hey Carl. I always wanted to ask you something. Who was your first big love and how did you two meet?\",\n",
    "             audio_id)"
   ]
  },
  {
   "cell_type": "code",
   "execution_count": 21,
   "metadata": {},
   "outputs": [
    {
     "name": "stdout",
     "output_type": "stream",
     "text": [
      "Please speak something...\n",
      "Recognizing...\n",
      "You said: this is a test\n"
     ]
    }
   ],
   "source": [
    "answer = get_answer()"
   ]
  },
  {
   "cell_type": "code",
   "execution_count": null,
   "metadata": {},
   "outputs": [],
   "source": [
    "summary = summarize_text(answer)\n",
    "print(f\"Summary: {summary}\")"
   ]
  }
 ],
 "metadata": {
  "kernelspec": {
   "display_name": ".venv",
   "language": "python",
   "name": "python3"
  },
  "language_info": {
   "codemirror_mode": {
    "name": "ipython",
    "version": 3
   },
   "file_extension": ".py",
   "mimetype": "text/x-python",
   "name": "python",
   "nbconvert_exporter": "python",
   "pygments_lexer": "ipython3",
   "version": "3.11.3"
  }
 },
 "nbformat": 4,
 "nbformat_minor": 2
}
