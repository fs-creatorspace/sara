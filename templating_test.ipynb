{
 "cells": [
  {
   "cell_type": "code",
   "execution_count": 1,
   "metadata": {},
   "outputs": [
    {
     "name": "stdout",
     "output_type": "stream",
     "text": [
      "pygame 2.5.2 (SDL 2.28.3, Python 3.11.4)\n",
      "Hello from the pygame community. https://www.pygame.org/contribute.html\n"
     ]
    }
   ],
   "source": [
    "import conversation"
   ]
  },
  {
   "cell_type": "code",
   "execution_count": 2,
   "metadata": {},
   "outputs": [
    {
     "name": "stdout",
     "output_type": "stream",
     "text": [
      "Setting up conversation 7\n"
     ]
    }
   ],
   "source": [
    "conv = conversation.Conversation(\"./conversations/\")"
   ]
  },
  {
   "cell_type": "code",
   "execution_count": 3,
   "metadata": {},
   "outputs": [
    {
     "data": {
      "text/plain": [
       "'./conversations//conv_7/question_0.mp3'"
      ]
     },
     "execution_count": 3,
     "metadata": {},
     "output_type": "execute_result"
    }
   ],
   "source": [
    "conv.textToSpeech(conv.question_storage[-1])"
   ]
  },
  {
   "cell_type": "code",
   "execution_count": 4,
   "metadata": {},
   "outputs": [
    {
     "name": "stdout",
     "output_type": "stream",
     "text": [
      "How did you meet your first love?\n"
     ]
    }
   ],
   "source": [
    "print(conv.question_storage[-1])\n",
    "conv.speak('./conversations//conv_3/question_0.mp3')"
   ]
  },
  {
   "cell_type": "code",
   "execution_count": 5,
   "metadata": {},
   "outputs": [
    {
     "name": "stdout",
     "output_type": "stream",
     "text": [
      "You said: We crossed paths in high school, sharing classes in Physics\n"
     ]
    }
   ],
   "source": [
    "answer_bypass=\"We crossed paths in high school, sharing classes in Physics\"\n",
    "answer = conv.speechToText(bypass=answer_bypass)"
   ]
  },
  {
   "cell_type": "code",
   "execution_count": 6,
   "metadata": {},
   "outputs": [
    {
     "data": {
      "text/plain": [
       "'We crossed paths in high school, taking Physics classes together.'"
      ]
     },
     "execution_count": 6,
     "metadata": {},
     "output_type": "execute_result"
    }
   ],
   "source": [
    "conv.summarize(answer)"
   ]
  },
  {
   "cell_type": "code",
   "execution_count": 7,
   "metadata": {},
   "outputs": [
    {
     "data": {
      "text/plain": [
       "'Oh, how lovely! High school can be such an interesting time. Tell me, did you have any particular moments or experiences in Physics class that stand out to you?'"
      ]
     },
     "execution_count": 7,
     "metadata": {},
     "output_type": "execute_result"
    }
   ],
   "source": [
    "conv.generateQuestion()"
   ]
  },
  {
   "cell_type": "code",
   "execution_count": 8,
   "metadata": {},
   "outputs": [
    {
     "name": "stdout",
     "output_type": "stream",
     "text": [
      "You said: We actually met during a group project in physics class. I remember being drawn to their intelligence and sense of humor. Our initial connection sparked from collaborating on the project, and from there, our friendship blossomed into something more meaningful.\n"
     ]
    }
   ],
   "source": [
    "answer_bypass=\"We actually met during a group project in physics class. I remember being drawn to their intelligence and sense of humor. Our initial connection sparked from collaborating on the project, and from there, our friendship blossomed into something more meaningful.\"\n",
    "answer = conv.speechToText(bypass=answer_bypass)"
   ]
  },
  {
   "cell_type": "code",
   "execution_count": 9,
   "metadata": {},
   "outputs": [
    {
     "data": {
      "text/plain": [
       "'We actually met during a group project in our physics class. I distinctly remember being drawn to their intelligence and sense of humor. Our initial connection was sparked by our collaboration on the project, and from there, our friendship blossomed into something more significant.'"
      ]
     },
     "execution_count": 9,
     "metadata": {},
     "output_type": "execute_result"
    }
   ],
   "source": [
    "conv.summarize(answer)"
   ]
  },
  {
   "cell_type": "code",
   "execution_count": 10,
   "metadata": {},
   "outputs": [
    {
     "data": {
      "text/plain": [
       "'That sounds like a wonderful way to meet someone special! Working on a group project can be a great opportunity to bond with someone. Did you face any challenges or memorable moments while working on that physics project together?'"
      ]
     },
     "execution_count": 10,
     "metadata": {},
     "output_type": "execute_result"
    }
   ],
   "source": [
    "conv.generateQuestion()"
   ]
  },
  {
   "cell_type": "code",
   "execution_count": 11,
   "metadata": {},
   "outputs": [
    {
     "name": "stdout",
     "output_type": "stream",
     "text": [
      "You said: Absolutely! After the project, we started studying together and grabbing coffee. Our conversations became deeper, and we discovered shared interests. As we spent more time together outside of class, the bond grew, and before we knew it, our friendship had transformed into a beautiful, meaningful connection.\n"
     ]
    }
   ],
   "source": [
    "answer_bypass=\"Absolutely! After the project, we started studying together and grabbing coffee. Our conversations became deeper, and we discovered shared interests. As we spent more time together outside of class, the bond grew, and before we knew it, our friendship had transformed into a beautiful, meaningful connection.\"\n",
    "answer = conv.speechToText(bypass=answer_bypass)"
   ]
  },
  {
   "cell_type": "code",
   "execution_count": 12,
   "metadata": {},
   "outputs": [
    {
     "data": {
      "text/plain": [
       "'Absolutely! After the project, we started studying together and grabbing coffee. Our conversations became deeper, and we discovered shared interests. As we spent more time together outside of class, the bond grew, and before we knew it, our friendship had transformed into a beautiful, meaningful connection.'"
      ]
     },
     "execution_count": 12,
     "metadata": {},
     "output_type": "execute_result"
    }
   ],
   "source": [
    "conv.summarize(answer)"
   ]
  },
  {
   "cell_type": "code",
   "execution_count": 13,
   "metadata": {},
   "outputs": [
    {
     "name": "stdout",
     "output_type": "stream",
     "text": [
      "Questions:\n",
      "0: How did you meet your first love?\n",
      "1: Oh, how lovely! High school can be such an interesting time. Tell me, did you have any particular moments or experiences in Physics class that stand out to you?\n",
      "2: That sounds like a wonderful way to meet someone special! Working on a group project can be a great opportunity to bond with someone. Did you face any challenges or memorable moments while working on that physics project together?\n",
      "----------\n",
      "Summaries:\n",
      "0: We crossed paths in high school, taking Physics classes together.\n",
      "1: We actually met during a group project in our physics class. I distinctly remember being drawn to their intelligence and sense of humor. Our initial connection was sparked by our collaboration on the project, and from there, our friendship blossomed into something more significant.\n",
      "2: Absolutely! After the project, we started studying together and grabbing coffee. Our conversations became deeper, and we discovered shared interests. As we spent more time together outside of class, the bond grew, and before we knew it, our friendship had transformed into a beautiful, meaningful connection.\n"
     ]
    }
   ],
   "source": [
    "conv.showHistory()"
   ]
  },
  {
   "cell_type": "code",
   "execution_count": 14,
   "metadata": {},
   "outputs": [
    {
     "name": "stdout",
     "output_type": "stream",
     "text": [
      "Well, let me tell you about how I met my first love. It was back in high school when we were taking Physics classes together. We had a chance encounter during a group project, and something just clicked between us. We found ourselves drawn to each other's intelligence and sense of humor. As we worked on the project together, our friendship deepened, and we began spending more time studying and hanging out. Gradually, our connection evolved into something truly special. It's amazing how a simple physics project led us to discover a love that would shape our lives in ways we couldn't have imagined.\n"
     ]
    }
   ],
   "source": [
    "print(conv.summary())"
   ]
  }
 ],
 "metadata": {
  "kernelspec": {
   "display_name": ".venv",
   "language": "python",
   "name": "python3"
  },
  "language_info": {
   "codemirror_mode": {
    "name": "ipython",
    "version": 3
   },
   "file_extension": ".py",
   "mimetype": "text/x-python",
   "name": "python",
   "nbconvert_exporter": "python",
   "pygments_lexer": "ipython3",
   "version": "3.11.4"
  }
 },
 "nbformat": 4,
 "nbformat_minor": 2
}
