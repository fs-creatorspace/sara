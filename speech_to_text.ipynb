{
 "cells": [
  {
   "cell_type": "code",
   "execution_count": 20,
   "metadata": {},
   "outputs": [],
   "source": [
    "from dotenv import load_dotenv\n",
    "import os"
   ]
  },
  {
   "cell_type": "code",
   "execution_count": 21,
   "metadata": {},
   "outputs": [
    {
     "data": {
      "text/plain": [
       "True"
      ]
     },
     "execution_count": 21,
     "metadata": {},
     "output_type": "execute_result"
    }
   ],
   "source": [
    "#load api-keys\n",
    "load_dotenv()"
   ]
  },
  {
   "cell_type": "markdown",
   "metadata": {},
   "source": [
    "## OpenAI Whisper"
   ]
  },
  {
   "cell_type": "code",
   "execution_count": 22,
   "metadata": {},
   "outputs": [],
   "source": [
    "import openai\n",
    "openai.api_key = os.getenv(\"OPENAI_API_KEY\")"
   ]
  },
  {
   "cell_type": "code",
   "execution_count": null,
   "metadata": {},
   "outputs": [],
   "source": [
    "file = open(\"./bark_generation.wav\", \"rb\")\n",
    "transcription = openai.Audio.transcribe(\"whisper-1\", file)\n",
    "\n",
    "print(transcription)"
   ]
  },
  {
   "cell_type": "markdown",
   "metadata": {},
   "source": [
    "## Google SpeechRecognition"
   ]
  },
  {
   "cell_type": "code",
   "execution_count": 29,
   "metadata": {},
   "outputs": [
    {
     "name": "stdout",
     "output_type": "stream",
     "text": [
      "Please speak something...\n",
      "Recognizing...\n",
      "You said: when I was 15 I experienced an event that reshaped my perspective on life my family and I will vacationing in a small Coastal Village escaping the city's hustle and bustle on our third day while exploring a secluded beach I found an old Reddit notebook partially buried in the sand curiosity piqued I began reading and realized it was diary from the 1940s the entries details a woman's love story with a soldier during World War II and the challenges they faced the tale of separation of an eventual reunion touch me profoundly teaching me about the resilience of the human spirit and loves and during nature I shared the diary with my family and it's called Deep conversations about ancestors and personal challenges that Discovery emphasized the importance of preserving personal history and cherishing every moment today that diary has a special place in our home reminding us of the strength to carry within the monster binders\n"
     ]
    }
   ],
   "source": [
    "import speech_recognition as sr\n",
    "\n",
    "recognizer = sr.Recognizer()\n",
    "\n",
    "with sr.Microphone() as source:\n",
    "    print(\"Please speak something...\")\n",
    "    recognizer.adjust_for_ambient_noise(source, duration=0.2)\n",
    "    audio_data = recognizer.listen(source)\n",
    "    print(\"Recognizing...\")\n",
    "\n",
    "    try:\n",
    "        # Using Google's speech recognition\n",
    "        text = recognizer.recognize_google(audio_data)\n",
    "        print(f\"You said: {text}\")\n",
    "\n",
    "    except sr.UnknownValueError:\n",
    "        print(\"Google Speech Recognition could not understand the audio.\")\n",
    "    except sr.RequestError:\n",
    "        print(\"Could not request results from Google Speech Recognition service.\")"
   ]
  },
  {
   "cell_type": "markdown",
   "metadata": {},
   "source": [
    "## Post Processing"
   ]
  },
  {
   "cell_type": "code",
   "execution_count": null,
   "metadata": {},
   "outputs": [],
   "source": [
    "# def refine_text(input_text):\n",
    "#     response = openai.Completion.create(\n",
    "#         engine=\"davinci\", \n",
    "#         prompt=f\"Refine the following sentence by removing unnecessary words: '{input_text}'\",\n",
    "#         max_tokens=150\n",
    "#     )\n",
    "#     return response.choices[0].text.strip()\n",
    "\n",
    "# input_sentence = \"This is a sort of an example sentence that has some extra words.\"\n",
    "# refined_sentence = refine_text(input_sentence)\n",
    "# print(refined_sentence)"
   ]
  },
  {
   "cell_type": "code",
   "execution_count": null,
   "metadata": {},
   "outputs": [],
   "source": [
    "# Start a conversation with the model\n",
    "def chat_with_gpt3(user_input):\n",
    "    # Use a template or structure for the conversation\n",
    "    messages = [\n",
    "        {\n",
    "            \"role\": \"system\",\n",
    "            \"content\": \"You are a helpful assistant.\"\n",
    "        },\n",
    "        {\n",
    "            \"role\": \"user\",\n",
    "            \"content\": f\"Proofread the following text and delete any wrong words: {user_input}\"\n",
    "        }\n",
    "    ]\n",
    "\n",
    "    response = openai.ChatCompletion.create(\n",
    "      model=\"gpt-3.5-turbo\",\n",
    "      messages=messages\n",
    "    )\n",
    "\n",
    "    # Extract the assistant's message from the response\n",
    "    assistant_message = response['choices'][0]['message']['content']\n",
    "    return assistant_message\n",
    "\n",
    "# Getting user input from a variable\n",
    "user_input_variable = \"Paris is the capital off France.\"\n",
    "response_text = chat_with_gpt3(user_input_variable)\n",
    "print(response_text)"
   ]
  }
 ],
 "metadata": {
  "kernelspec": {
   "display_name": ".venv",
   "language": "python",
   "name": "python3"
  },
  "language_info": {
   "codemirror_mode": {
    "name": "ipython",
    "version": 3
   },
   "file_extension": ".py",
   "mimetype": "text/x-python",
   "name": "python",
   "nbconvert_exporter": "python",
   "pygments_lexer": "ipython3",
   "version": "3.11.4"
  },
  "orig_nbformat": 4
 },
 "nbformat": 4,
 "nbformat_minor": 2
}
